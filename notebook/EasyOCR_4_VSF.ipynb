{
  "cells": [
    {
      "cell_type": "markdown",
      "metadata": {
        "id": "view-in-github",
        "colab_type": "text"
      },
      "source": [
        "<a href=\"https://colab.research.google.com/github/meizhong986/WhisperJAV/blob/main/notebook/EasyOCR_4_VSF.ipynb\" target=\"_parent\"><img src=\"https://colab.research.google.com/assets/colab-badge.svg\" alt=\"Open In Colab\"/></a>"
      ]
    },
    {
      "cell_type": "markdown",
      "source": [
        "# EasyOCR to process videosubfinder images\n",
        "\n",
        "1. Default location is TXTImages folder in your Google Drive.\n",
        "2. Default detection language is Simplified Chinese. Please check your source.\n",
        "3. Results are saved in TXTResults folder.\n",
        "\n",
        "Happy subbing!\n"
      ],
      "metadata": {
        "id": "jp6unMMgpca_"
      },
      "id": "jp6unMMgpca_"
    },
    {
      "cell_type": "code",
      "source": [
        "#@markdown **Installing EasyOCR --please wait, it takes 1 minute**\n",
        "%%capture\n",
        "!pip install git+https://github.com/JaidedAI/EasyOCR.git\n",
        "!pip install tqdm\n"
      ],
      "metadata": {
        "cellView": "form",
        "id": "QGvxQVvvWJdw"
      },
      "id": "QGvxQVvvWJdw",
      "execution_count": null,
      "outputs": []
    },
    {
      "cell_type": "code",
      "source": [
        "# Define the mapping of language names to codes\n",
        "language_codes = {\n",
        "    'Arabic': 'ar',\n",
        "    'Simplified Chinese': 'ch_sim',\n",
        "    'Traditional Chinese': 'ch_tra',\n",
        "    'German': 'de',\n",
        "    'English': 'en',\n",
        "    'Spanish': 'es',\n",
        "    'Persian (Farsi)': 'fa',\n",
        "    'French': 'fr',\n",
        "    'Hindi': 'hi',\n",
        "    'Indonesian': 'id',\n",
        "    'Italian': 'it',\n",
        "    'Japanese': 'ja',\n",
        "    'Korean': 'ko',\n",
        "    'Russian': 'ru',\n",
        "    'Swedish': 'sv',\n",
        "    'Thai': 'th',\n",
        "    'Vietnamese': 'vi',\n",
        "}\n",
        "\n",
        "language = 'Simplified Chinese'  # @param ['Simplified Chinese', 'Traditional Chinese', 'English', 'Japanese', 'Korean']\n",
        "\n",
        "# Get the corresponding language code\n",
        "language_code = language_codes.get(language)\n",
        "\n",
        "print(f'Selected Language: {language}, Language Code: {language_code}')\n",
        "\n"
      ],
      "metadata": {
        "cellView": "form",
        "id": "xuaFnviLSyvK"
      },
      "id": "xuaFnviLSyvK",
      "execution_count": null,
      "outputs": []
    },
    {
      "cell_type": "code",
      "execution_count": null,
      "id": "40ff1261",
      "metadata": {
        "cellView": "form",
        "id": "40ff1261"
      },
      "outputs": [],
      "source": [
        "#@markdown **Connect your Google Drive.**\n",
        "from google.colab import drive\n",
        "drive.mount('/content/drive')"
      ]
    },
    {
      "cell_type": "code",
      "source": [
        "folder = \"/content/drive/MyDrive/TXTImages\"  # @param {type:\"string\"}"
      ],
      "metadata": {
        "cellView": "form",
        "id": "DnkySJCla0EW"
      },
      "id": "DnkySJCla0EW",
      "execution_count": null,
      "outputs": []
    },
    {
      "cell_type": "code",
      "source": [
        "#@markdown **Global definitions**\n",
        "extensions=[\".jpg\",\".png\",\".jpeg\",\".bmp\"]\n",
        "directoryDefault=folder\n",
        "languagesDefault=\"ch_sim\"\n",
        "import os\n",
        "import argparse\n",
        "import shutil\n",
        "import easyocr\n",
        "from tqdm import tqdm\n",
        "from google.colab import files\n",
        "\n",
        "def runEasyOCR(langs=\"ch_sim, en\", directory=\"/content/drive/MyDrive/TXTImages\"):\n",
        "    if not os.path.isdir(directory):\n",
        "        print (\"Not exists directory: \" + directory )\n",
        "        return\n",
        "\n",
        "    parentDirectory = os.path.dirname(directory)\n",
        "    directoryTXTResults = os.path.join(parentDirectory, \"TXTResults\")\n",
        "    if os.path.isdir(directoryTXTResults):\n",
        "        directoryTxt = directoryTXTResults\n",
        "    else:\n",
        "        os.makedirs(directoryTXTResults)\n",
        "        print(f\"Directory {directoryTXTResults} created.\")\n",
        "        directoryTxt = directoryTXTResults\n",
        "\n",
        "    os.system(\"title OCR for \" + directory + \" - \" + langs)\n",
        "    reader = easyocr.Reader( langs.replace(\" \",\"\").split(\",\") )\n",
        "\n",
        "    files = sorted([x for x in os.listdir(directory) if os.path.splitext(x)[1] in extensions])\n",
        "    print(\"\\n\\n=== EasyOCR detecting models loaded. Now will start image processing ===\")\n",
        "    print(f\"Starting to process {len(files)} image files...\")\n",
        "    print(f\"The results are stored in folder: {directoryTXTResults} in your Google Drive...\\n\")\n",
        "\n",
        "\n",
        "    for i,x in enumerate(tqdm(files, desc=\"Processing images\", unit=\"image\")):\n",
        "        fileImage = os.path.join(directory,x)\n",
        "        fileTxt = os.path.join(directoryTxt,x)\n",
        "        result = reader.readtext(fileImage,detail=0, paragraph=True)\n",
        "        with open(fileTxt+\".txt\", \"w\", encoding=\"utf-8\") as f:\n",
        "            f.write( \" \".join(result) )\n",
        "\n",
        "    # Return the path to the output directory\n",
        "    return directoryTxt\n"
      ],
      "metadata": {
        "cellView": "form",
        "id": "2q5fZCqMfFBX"
      },
      "id": "2q5fZCqMfFBX",
      "execution_count": null,
      "outputs": []
    },
    {
      "cell_type": "code",
      "execution_count": null,
      "id": "8d28f3b3",
      "metadata": {
        "cellView": "form",
        "id": "8d28f3b3"
      },
      "outputs": [],
      "source": [
        "#@markdown **Run EasyOCR. Results will be in TXTResults folder**\n",
        "if __name__ == \"__main__\":\n",
        "    outputfolder = runEasyOCR(languagesDefault, directoryDefault)\n",
        "\n",
        "    # zip and download results\n",
        "    directory_to_zip = outputfolder\n",
        "    base_name = os.path.basename(directory_to_zip)  # Use the directory name for the zip file\n",
        "    shutil.make_archive(base_name, 'zip', directory_to_zip)\n",
        "    files.download(base_name + \".zip\")\n",
        "    print(f\"{os.path.basename(directory_to_zip)} folder content is zipped and downloaded\")\n",
        "\n",
        "    print(\"\\n=== All Done! ===\")\n",
        "\n"
      ]
    }
  ],
  "metadata": {
    "jupytext": {
      "cell_metadata_filter": "-all",
      "main_language": "python",
      "notebook_metadata_filter": "-all"
    },
    "colab": {
      "provenance": [],
      "gpuType": "T4",
      "include_colab_link": true
    },
    "language_info": {
      "name": "python"
    },
    "kernelspec": {
      "name": "python3",
      "display_name": "Python 3"
    },
    "accelerator": "GPU"
  },
  "nbformat": 4,
  "nbformat_minor": 5
}
